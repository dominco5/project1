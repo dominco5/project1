{
 "cells": [
  {
   "cell_type": "code",
   "execution_count": null,
   "metadata": {},
   "outputs": [],
   "source": [
    "#Dependencies\n",
    "import pandas as pd\n",
    "from pathlib import Path\n",
    "import matplotlib.pyplot as plt\n",
    "import calendar\n",
    "import seaborn as sns"
   ]
  },
  {
   "cell_type": "code",
   "execution_count": null,
   "metadata": {},
   "outputs": [],
   "source": [
    "crime_data_to_load = Path(\"../Resources/crime_grouped_data.csv\")\n",
    "crime_data = pd.read_csv(crime_data_to_load)"
   ]
  },
  {
   "cell_type": "markdown",
   "metadata": {},
   "source": [
    "## Number of Crimes by Crime Code Category"
   ]
  },
  {
   "cell_type": "code",
   "execution_count": null,
   "metadata": {},
   "outputs": [],
   "source": [
    "crime_category_count = crime_data[\"Crime Code Category\"].value_counts().sort_values(ascending=False)\n",
    "\n",
    "crime_category_df = pd.DataFrame({'Count': crime_category_count, 'Percentage (%)': round(crime_category_count / crime_category_count.sum() * 100,2)})\n",
    "crime_category_df"
   ]
  },
  {
   "cell_type": "code",
   "execution_count": null,
   "metadata": {},
   "outputs": [],
   "source": [
    "crime_category_chart = crime_category_count.plot(kind='bar')\n",
    "\n",
    "plt.xlabel(\"Crime Category\")\n",
    "plt.ylabel(\"Number of Crimes\")\n",
    "plt.title(\"Crime Counts by Crime Code Category\")\n",
    "\n",
    "plt.tight_layout()\n",
    "\n",
    "plt.savefig(\"../Output/crime_counts_by_category.png\")\n",
    "\n",
    "plt.show()"
   ]
  },
  {
   "cell_type": "markdown",
   "metadata": {},
   "source": [
    "### Analysis:\n",
    "This data provides an overview of the distribution of different crime categories and their relative significance in the dataset. The most prevalent category is Burglary/Theft, accounting for 37.44% of all incidents. Assault/Violent Crimes are the second most frequent crimes, constituting 23.71% of cases."
   ]
  },
  {
   "cell_type": "markdown",
   "metadata": {},
   "source": [
    "## Number of Crimes by Month"
   ]
  },
  {
   "cell_type": "code",
   "execution_count": null,
   "metadata": {},
   "outputs": [],
   "source": [
    "crime_data[\"Date Reported\"] = pd.to_datetime(crime_data[\"Date Reported\"])\n",
    "crime_data[\"Date Occurred\"] = pd.to_datetime(crime_data[\"Date Occurred\"])\n",
    "\n",
    "crime_data[\"Month Occurred\"] = crime_data[\"Date Occurred\"].dt.month"
   ]
  },
  {
   "cell_type": "code",
   "execution_count": null,
   "metadata": {},
   "outputs": [],
   "source": [
    "crime_by_month = crime_data.groupby(\"Month Occurred\").size()\n",
    "\n",
    "month_df = pd.DataFrame({'Count': crime_by_month, 'Percentage (%)': round(crime_by_month / crime_by_month.sum() * 100,2)})\n",
    "month_df\n"
   ]
  },
  {
   "cell_type": "code",
   "execution_count": null,
   "metadata": {},
   "outputs": [],
   "source": [
    "plt.figure(figsize=(10, 6))\n",
    "\n",
    "plt.plot(crime_by_month.index, crime_by_month.values, marker='o')\n",
    "\n",
    "plt.xlabel(\"Month\")\n",
    "plt.ylabel(\"Number of Crimes\")\n",
    "plt.title(\"Crime Counts by Month\")\n",
    "plt.grid(True)\n",
    "\n",
    "month_names = [calendar.month_name[i] for i in crime_by_month.index]\n",
    "plt.xticks(crime_by_month.index, month_names, rotation=45)\n",
    "\n",
    "plt.tight_layout()\n",
    "\n",
    "plt.savefig(\"../Output/crime_counts_month.png\")\n",
    "\n",
    "plt.show()"
   ]
  },
  {
   "cell_type": "markdown",
   "metadata": {},
   "source": [
    "### Analysis: \n",
    "The highest number of crimes occurred in the month of July with 73,939 incidents, accounting for 9.54% of the total.\n",
    "\n",
    "The months of May and January also saw high crime rates, with 72,973 (9.41%) and 72,860 (9.40%) incidents respectively.\n",
    "\n",
    "The lowest crime rates were observed in September (53,163 incidents, 6.86%) and October (55,953 incidents, 7.22%).\n",
    "\n",
    "Crime rates remained relatively consistent throughout the year, with slight fluctuations in different months.\n"
   ]
  },
  {
   "cell_type": "markdown",
   "metadata": {},
   "source": [
    "## Number of Crimes by Hour"
   ]
  },
  {
   "cell_type": "code",
   "execution_count": null,
   "metadata": {},
   "outputs": [],
   "source": [
    "crime_byhour = crime_data.groupby(\"Crime Code Category\")[\"Hour Occurred\"].value_counts()\n",
    "crime_byhour_df = crime_byhour.unstack(level=0)"
   ]
  },
  {
   "cell_type": "code",
   "execution_count": null,
   "metadata": {},
   "outputs": [],
   "source": [
    "crime_byhour_df.head()"
   ]
  },
  {
   "cell_type": "code",
   "execution_count": null,
   "metadata": {},
   "outputs": [],
   "source": [
    "plt.figure(figsize=(12, 8))\n",
    "sns.heatmap(crime_byhour_df, cmap='YlOrRd', annot=True, fmt=\"d\", linewidths=.5, cbar_kws={\"label\": \"Number of Crimes\"})\n",
    "plt.title('Crime Counts by Hour')\n",
    "plt.xlabel('Crime Code Category')\n",
    "plt.ylabel('Hour Occurred')\n",
    "plt.xticks(rotation=90)\n",
    "plt.yticks(rotation=0)\n",
    "\n",
    "plt.tight_layout()\n",
    "\n",
    "plt.savefig(\"../Output/crime_counts_hourly_heatmap.png\")\n",
    "\n",
    "plt.show()"
   ]
  },
  {
   "cell_type": "code",
   "execution_count": null,
   "metadata": {},
   "outputs": [],
   "source": [
    "plt.figure(figsize=(12, 8))\n",
    "sns.lineplot(data=crime_byhour_df, dashes=False)\n",
    "plt.title('Crime Code Category Counts by Hour')\n",
    "plt.xlabel('Hour Occurred')\n",
    "plt.ylabel('Number of Incidents')\n",
    "plt.xticks(rotation=90)\n",
    "plt.legend(title='Crime Code Category', bbox_to_anchor=(1, 1))\n",
    "plt.grid(True)\n",
    "plt.tight_layout()\n",
    "\n",
    "plt.savefig(\"../Output/crime_counts_hourly.png\")\n",
    "\n",
    "plt.show()"
   ]
  },
  {
   "cell_type": "markdown",
   "metadata": {},
   "source": [
    "### Analysis: \n",
    "Different crime categories exhibit varying patterns of occurrence throughout the day. Some show distinct peak hours, while others have more uniform distributions.\n",
    "\n",
    "Burglary/Theft, which are the types of crime that occur the most frequently, has peak hours are during the evening and nighttime, particularly from 5:00pm to midnight.\n",
    "\n",
    "Assault/Violent crimes has the highest occurrence is around midday, with a peak at 11:00 to 12:00.\n",
    "\n",
    "Generally, the highest occurrences are typically observed during late morning and late afternoon to early evening hours."
   ]
  },
  {
   "cell_type": "markdown",
   "metadata": {},
   "source": [
    "## Nuber of Crimes by Premise Category"
   ]
  },
  {
   "cell_type": "code",
   "execution_count": null,
   "metadata": {},
   "outputs": [],
   "source": [
    "premise_count = crime_data[\"Premise Category\"].value_counts().sort_values(ascending=False)\n",
    "\n",
    "premise_df = pd.DataFrame({'Count': premise_count, 'Percentage (%)': round(premise_count / premise_count.sum() * 100,2)})\n",
    "premise_df"
   ]
  },
  {
   "cell_type": "code",
   "execution_count": null,
   "metadata": {},
   "outputs": [],
   "source": [
    "premise_chart = premise_count.plot(kind='bar')\n",
    "\n",
    "plt.xlabel(\"Premise Category\")\n",
    "plt.ylabel(\"Number of Crimes\")\n",
    "plt.title(\"Crime Counts by Premise Category\")\n",
    "\n",
    "plt.tight_layout()\n",
    "\n",
    "plt.savefig(\"../Output/crime_counts_premise_category.png\")\n",
    "\n",
    "plt.show()"
   ]
  },
  {
   "cell_type": "markdown",
   "metadata": {},
   "source": [
    "### Analysis:\n",
    "This data shows where crimes predominantly occur, with Outdoor Locations and Residential areas being the primary settings, followed by commercial locations, transportation, public facilities, and a smaller miscellaneous category. Outdoor Locations are the most common premise, accounting for 45.31% (351,026 incidents) of crimes."
   ]
  },
  {
   "cell_type": "markdown",
   "metadata": {},
   "source": [
    "## Victims by Age Range"
   ]
  },
  {
   "cell_type": "code",
   "execution_count": null,
   "metadata": {},
   "outputs": [],
   "source": [
    "victim_age_range = crime_data[\"Victim Age Range\"].value_counts()\n",
    "\n",
    "victim_age_df = pd.DataFrame({'Count': victim_age_range, 'Percentage (%)': round(victim_age_range / victim_age_range.sum() * 100,2)})\n",
    "victim_age_df"
   ]
  },
  {
   "cell_type": "code",
   "execution_count": null,
   "metadata": {},
   "outputs": [],
   "source": [
    "age_chart = victim_age_range.plot(kind='pie', autopct=\"%1.1f%%\")\n",
    "\n",
    "plt.xlabel(\"Victim Age Range\")\n",
    "plt.ylabel(\"Percentage of Victims\")\n",
    "plt.title(\"Percentage of Victims by Age Range\")\n",
    "\n",
    "plt.savefig(\"../Output/perc_victims_by_age.png\")\n",
    "\n",
    "plt.show()"
   ]
  },
  {
   "cell_type": "markdown",
   "metadata": {},
   "source": [
    "### Analysis: \n",
    "This data offers insights into the age demographics of crime victims, with the 26-45 age group being the most prevalent, followed by those under 18, 46-65, 18-25, and individuals over 65. 26-45 is the largest age group, comprising 37.00% (286,790 incidents) of the victims."
   ]
  },
  {
   "cell_type": "markdown",
   "metadata": {},
   "source": [
    "## Victims by Ethnicity"
   ]
  },
  {
   "cell_type": "code",
   "execution_count": null,
   "metadata": {},
   "outputs": [],
   "source": [
    "victim_ethnicity = crime_data[\"Victim Ethnicity\"].value_counts().sort_values(ascending=False)\n",
    "\n",
    "victim_ethnicity_df = pd.DataFrame({'Count': victim_ethnicity, 'Percentage (%)': round(victim_ethnicity / victim_ethnicity.sum() * 100,2)})\n",
    "victim_ethnicity_df"
   ]
  },
  {
   "cell_type": "code",
   "execution_count": null,
   "metadata": {},
   "outputs": [],
   "source": [
    "ethnicity_chart = victim_ethnicity.plot(kind='bar')\n",
    "\n",
    "plt.xlabel(\"Victim Ethnicity\")\n",
    "plt.ylabel(\"Number of Victims\")\n",
    "plt.title(\"Number of Victims by Ethnicity\")\n",
    "\n",
    "plt.tight_layout()\n",
    "\n",
    "plt.savefig(\"../Output/victims_by_ethnicity.png\")\n",
    "\n",
    "plt.show()"
   ]
  },
  {
   "cell_type": "markdown",
   "metadata": {},
   "source": [
    "### Analysis: \n",
    "This data showcases the diverse ethnic composition of crime victims in Los Angeles, with Hispanic/Latin/Mexican, White, and Black individuals being the most prominent groups, followed by various other ethnicities. Hispanic/Latin/Mexican represents the largest ethnic group, accounting for 35.32% (237,986 incidents) of victims."
   ]
  },
  {
   "cell_type": "markdown",
   "metadata": {},
   "source": [
    "## Victims by Sex"
   ]
  },
  {
   "cell_type": "code",
   "execution_count": null,
   "metadata": {},
   "outputs": [],
   "source": [
    "victim_sex = crime_data[\"Victim Sex\"].value_counts().sort_values(ascending=False)\n",
    "\n",
    "victim_sex_df = pd.DataFrame({'Count': victim_sex, 'Percentage (%)': round(victim_sex / victim_sex.sum() * 100,2)})\n",
    "victim_sex_df"
   ]
  },
  {
   "cell_type": "code",
   "execution_count": null,
   "metadata": {},
   "outputs": [],
   "source": [
    "sex_chart = victim_sex.plot(kind='pie', autopct=\"%1.1f%%\")\n",
    "\n",
    "plt.xlabel(\"Victim Sex\")\n",
    "plt.ylabel(\"Percentage of Victims\")\n",
    "plt.title(\"Percentage of Victims by Sex\")\n",
    "\n",
    "plt.savefig(\"../Output/perc_victims_by_sex\")\n",
    "\n",
    "plt.show()\n"
   ]
  },
  {
   "cell_type": "markdown",
   "metadata": {},
   "source": [
    "### Analysis: \n",
    "This data indicates that a significant proportion of crime victims in Los Angeles are male, followed by females, with a smaller percentage of cases where the gender of the victim is unknown."
   ]
  }
 ],
 "metadata": {
  "kernelspec": {
   "display_name": "dev",
   "language": "python",
   "name": "python3"
  },
  "language_info": {
   "codemirror_mode": {
    "name": "ipython",
    "version": 3
   },
   "file_extension": ".py",
   "mimetype": "text/x-python",
   "name": "python",
   "nbconvert_exporter": "python",
   "pygments_lexer": "ipython3",
   "version": "3.10.12"
  },
  "orig_nbformat": 4
 },
 "nbformat": 4,
 "nbformat_minor": 2
}
